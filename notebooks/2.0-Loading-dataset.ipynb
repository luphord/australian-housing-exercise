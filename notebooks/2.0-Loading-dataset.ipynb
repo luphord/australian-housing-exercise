{
 "cells": [
  {
   "cell_type": "code",
   "execution_count": 11,
   "metadata": {},
   "outputs": [],
   "source": [
    "import json"
   ]
  },
  {
   "cell_type": "code",
   "execution_count": 5,
   "metadata": {},
   "outputs": [],
   "source": [
    "from australian_housing.data.extract_dataframe import AustralianHousingLoader"
   ]
  },
  {
   "cell_type": "code",
   "execution_count": 12,
   "metadata": {},
   "outputs": [],
   "source": [
    "with open('../data/raw/australian_housing.json') as f:\n",
    "    loader = AustralianHousingLoader(json.load(f))"
   ]
  },
  {
   "cell_type": "code",
   "execution_count": 13,
   "metadata": {},
   "outputs": [],
   "source": [
    "df = loader.to_dataframe()"
   ]
  },
  {
   "cell_type": "code",
   "execution_count": 14,
   "metadata": {},
   "outputs": [
    {
     "data": {
      "text/html": [
       "<div>\n",
       "<style scoped>\n",
       "    .dataframe tbody tr th:only-of-type {\n",
       "        vertical-align: middle;\n",
       "    }\n",
       "\n",
       "    .dataframe tbody tr th {\n",
       "        vertical-align: top;\n",
       "    }\n",
       "\n",
       "    .dataframe thead th {\n",
       "        text-align: right;\n",
       "    }\n",
       "</style>\n",
       "<table border=\"1\" class=\"dataframe\">\n",
       "  <thead>\n",
       "    <tr style=\"text-align: right;\">\n",
       "      <th></th>\n",
       "      <th>Measure</th>\n",
       "      <th>Sector of Ownership</th>\n",
       "      <th>Type of work</th>\n",
       "      <th>Type of building</th>\n",
       "      <th>Geography Level</th>\n",
       "      <th>Region</th>\n",
       "      <th>Frequency</th>\n",
       "      <th>Time</th>\n",
       "      <th>Value</th>\n",
       "    </tr>\n",
       "  </thead>\n",
       "  <tbody>\n",
       "    <tr>\n",
       "      <th>0</th>\n",
       "      <td>Total number of dwelling units</td>\n",
       "      <td>Total Sectors</td>\n",
       "      <td>New</td>\n",
       "      <td>Houses</td>\n",
       "      <td>Statistical Area Level 3</td>\n",
       "      <td>Gosford</td>\n",
       "      <td>Monthly</td>\n",
       "      <td>Jul-2011</td>\n",
       "      <td>14.0</td>\n",
       "    </tr>\n",
       "    <tr>\n",
       "      <th>1</th>\n",
       "      <td>Total number of dwelling units</td>\n",
       "      <td>Total Sectors</td>\n",
       "      <td>New</td>\n",
       "      <td>Houses</td>\n",
       "      <td>Statistical Area Level 3</td>\n",
       "      <td>Gosford</td>\n",
       "      <td>Monthly</td>\n",
       "      <td>Aug-2011</td>\n",
       "      <td>17.0</td>\n",
       "    </tr>\n",
       "    <tr>\n",
       "      <th>2</th>\n",
       "      <td>Total number of dwelling units</td>\n",
       "      <td>Total Sectors</td>\n",
       "      <td>New</td>\n",
       "      <td>Houses</td>\n",
       "      <td>Statistical Area Level 3</td>\n",
       "      <td>Gosford</td>\n",
       "      <td>Monthly</td>\n",
       "      <td>Sep-2011</td>\n",
       "      <td>21.0</td>\n",
       "    </tr>\n",
       "    <tr>\n",
       "      <th>3</th>\n",
       "      <td>Total number of dwelling units</td>\n",
       "      <td>Total Sectors</td>\n",
       "      <td>New</td>\n",
       "      <td>Houses</td>\n",
       "      <td>Statistical Area Level 3</td>\n",
       "      <td>Gosford</td>\n",
       "      <td>Monthly</td>\n",
       "      <td>Oct-2011</td>\n",
       "      <td>15.0</td>\n",
       "    </tr>\n",
       "    <tr>\n",
       "      <th>4</th>\n",
       "      <td>Total number of dwelling units</td>\n",
       "      <td>Total Sectors</td>\n",
       "      <td>New</td>\n",
       "      <td>Houses</td>\n",
       "      <td>Statistical Area Level 3</td>\n",
       "      <td>Gosford</td>\n",
       "      <td>Monthly</td>\n",
       "      <td>Nov-2011</td>\n",
       "      <td>15.0</td>\n",
       "    </tr>\n",
       "  </tbody>\n",
       "</table>\n",
       "</div>"
      ],
      "text/plain": [
       "                          Measure Sector of Ownership Type of work  \\\n",
       "0  Total number of dwelling units       Total Sectors          New   \n",
       "1  Total number of dwelling units       Total Sectors          New   \n",
       "2  Total number of dwelling units       Total Sectors          New   \n",
       "3  Total number of dwelling units       Total Sectors          New   \n",
       "4  Total number of dwelling units       Total Sectors          New   \n",
       "\n",
       "  Type of building           Geography Level   Region Frequency      Time  \\\n",
       "0           Houses  Statistical Area Level 3  Gosford   Monthly  Jul-2011   \n",
       "1           Houses  Statistical Area Level 3  Gosford   Monthly  Aug-2011   \n",
       "2           Houses  Statistical Area Level 3  Gosford   Monthly  Sep-2011   \n",
       "3           Houses  Statistical Area Level 3  Gosford   Monthly  Oct-2011   \n",
       "4           Houses  Statistical Area Level 3  Gosford   Monthly  Nov-2011   \n",
       "\n",
       "   Value  \n",
       "0   14.0  \n",
       "1   17.0  \n",
       "2   21.0  \n",
       "3   15.0  \n",
       "4   15.0  "
      ]
     },
     "execution_count": 14,
     "metadata": {},
     "output_type": "execute_result"
    }
   ],
   "source": [
    "df.head()"
   ]
  },
  {
   "cell_type": "code",
   "execution_count": null,
   "metadata": {},
   "outputs": [],
   "source": []
  }
 ],
 "metadata": {
  "kernelspec": {
   "display_name": "Python 3",
   "language": "python",
   "name": "python3"
  },
  "language_info": {
   "codemirror_mode": {
    "name": "ipython",
    "version": 3
   },
   "file_extension": ".py",
   "mimetype": "text/x-python",
   "name": "python",
   "nbconvert_exporter": "python",
   "pygments_lexer": "ipython3",
   "version": "3.7.0"
  }
 },
 "nbformat": 4,
 "nbformat_minor": 2
}
