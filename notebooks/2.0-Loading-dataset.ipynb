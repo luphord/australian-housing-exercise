{
 "cells": [
  {
   "cell_type": "code",
   "execution_count": 1,
   "metadata": {},
   "outputs": [],
   "source": [
    "import json"
   ]
  },
  {
   "cell_type": "code",
   "execution_count": 2,
   "metadata": {},
   "outputs": [],
   "source": [
    "from australian_housing.data.extract_dataframe import AustralianHousingLoader\n",
    "from australian_housing import paths"
   ]
  },
  {
   "cell_type": "code",
   "execution_count": 3,
   "metadata": {},
   "outputs": [],
   "source": [
    "with open(paths.manager.raw_data_file) as f:\n",
    "    loader = AustralianHousingLoader(json.load(f))"
   ]
  },
  {
   "cell_type": "code",
   "execution_count": 4,
   "metadata": {},
   "outputs": [],
   "source": [
    "df = loader.to_dataframe()"
   ]
  },
  {
   "cell_type": "code",
   "execution_count": 5,
   "metadata": {},
   "outputs": [
    {
     "data": {
      "text/html": [
       "<div>\n",
       "<style scoped>\n",
       "    .dataframe tbody tr th:only-of-type {\n",
       "        vertical-align: middle;\n",
       "    }\n",
       "\n",
       "    .dataframe tbody tr th {\n",
       "        vertical-align: top;\n",
       "    }\n",
       "\n",
       "    .dataframe thead th {\n",
       "        text-align: right;\n",
       "    }\n",
       "</style>\n",
       "<table border=\"1\" class=\"dataframe\">\n",
       "  <thead>\n",
       "    <tr style=\"text-align: right;\">\n",
       "      <th></th>\n",
       "      <th>Measure</th>\n",
       "      <th>Sector of Ownership</th>\n",
       "      <th>Type of work</th>\n",
       "      <th>Type of building</th>\n",
       "      <th>Geography Level</th>\n",
       "      <th>Region</th>\n",
       "      <th>Frequency</th>\n",
       "      <th>Value</th>\n",
       "    </tr>\n",
       "    <tr>\n",
       "      <th>Time</th>\n",
       "      <th></th>\n",
       "      <th></th>\n",
       "      <th></th>\n",
       "      <th></th>\n",
       "      <th></th>\n",
       "      <th></th>\n",
       "      <th></th>\n",
       "      <th></th>\n",
       "    </tr>\n",
       "  </thead>\n",
       "  <tbody>\n",
       "    <tr>\n",
       "      <th>2011-07-01</th>\n",
       "      <td>Total number of dwelling units</td>\n",
       "      <td>Total Sectors</td>\n",
       "      <td>New</td>\n",
       "      <td>Houses</td>\n",
       "      <td>Statistical Area Level 3</td>\n",
       "      <td>Gosford</td>\n",
       "      <td>Monthly</td>\n",
       "      <td>14.0</td>\n",
       "    </tr>\n",
       "    <tr>\n",
       "      <th>2011-08-01</th>\n",
       "      <td>Total number of dwelling units</td>\n",
       "      <td>Total Sectors</td>\n",
       "      <td>New</td>\n",
       "      <td>Houses</td>\n",
       "      <td>Statistical Area Level 3</td>\n",
       "      <td>Gosford</td>\n",
       "      <td>Monthly</td>\n",
       "      <td>17.0</td>\n",
       "    </tr>\n",
       "    <tr>\n",
       "      <th>2011-09-01</th>\n",
       "      <td>Total number of dwelling units</td>\n",
       "      <td>Total Sectors</td>\n",
       "      <td>New</td>\n",
       "      <td>Houses</td>\n",
       "      <td>Statistical Area Level 3</td>\n",
       "      <td>Gosford</td>\n",
       "      <td>Monthly</td>\n",
       "      <td>21.0</td>\n",
       "    </tr>\n",
       "    <tr>\n",
       "      <th>2011-10-01</th>\n",
       "      <td>Total number of dwelling units</td>\n",
       "      <td>Total Sectors</td>\n",
       "      <td>New</td>\n",
       "      <td>Houses</td>\n",
       "      <td>Statistical Area Level 3</td>\n",
       "      <td>Gosford</td>\n",
       "      <td>Monthly</td>\n",
       "      <td>15.0</td>\n",
       "    </tr>\n",
       "    <tr>\n",
       "      <th>2011-11-01</th>\n",
       "      <td>Total number of dwelling units</td>\n",
       "      <td>Total Sectors</td>\n",
       "      <td>New</td>\n",
       "      <td>Houses</td>\n",
       "      <td>Statistical Area Level 3</td>\n",
       "      <td>Gosford</td>\n",
       "      <td>Monthly</td>\n",
       "      <td>15.0</td>\n",
       "    </tr>\n",
       "  </tbody>\n",
       "</table>\n",
       "</div>"
      ],
      "text/plain": [
       "                                   Measure Sector of Ownership Type of work  \\\n",
       "Time                                                                          \n",
       "2011-07-01  Total number of dwelling units       Total Sectors          New   \n",
       "2011-08-01  Total number of dwelling units       Total Sectors          New   \n",
       "2011-09-01  Total number of dwelling units       Total Sectors          New   \n",
       "2011-10-01  Total number of dwelling units       Total Sectors          New   \n",
       "2011-11-01  Total number of dwelling units       Total Sectors          New   \n",
       "\n",
       "           Type of building           Geography Level   Region Frequency  \\\n",
       "Time                                                                       \n",
       "2011-07-01           Houses  Statistical Area Level 3  Gosford   Monthly   \n",
       "2011-08-01           Houses  Statistical Area Level 3  Gosford   Monthly   \n",
       "2011-09-01           Houses  Statistical Area Level 3  Gosford   Monthly   \n",
       "2011-10-01           Houses  Statistical Area Level 3  Gosford   Monthly   \n",
       "2011-11-01           Houses  Statistical Area Level 3  Gosford   Monthly   \n",
       "\n",
       "            Value  \n",
       "Time               \n",
       "2011-07-01   14.0  \n",
       "2011-08-01   17.0  \n",
       "2011-09-01   21.0  \n",
       "2011-10-01   15.0  \n",
       "2011-11-01   15.0  "
      ]
     },
     "execution_count": 5,
     "metadata": {},
     "output_type": "execute_result"
    }
   ],
   "source": [
    "df.head()"
   ]
  }
 ],
 "metadata": {
  "kernelspec": {
   "display_name": "Python 3",
   "language": "python",
   "name": "python3"
  },
  "language_info": {
   "codemirror_mode": {
    "name": "ipython",
    "version": 3
   },
   "file_extension": ".py",
   "mimetype": "text/x-python",
   "name": "python",
   "nbconvert_exporter": "python",
   "pygments_lexer": "ipython3",
   "version": "3.7.0"
  }
 },
 "nbformat": 4,
 "nbformat_minor": 2
}
