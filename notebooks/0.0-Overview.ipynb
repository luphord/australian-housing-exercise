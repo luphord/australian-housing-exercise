{
 "cells": [
  {
   "cell_type": "markdown",
   "metadata": {},
   "source": [
    "# Data Science Exercise - Australian Housing"
   ]
  },
  {
   "cell_type": "markdown",
   "metadata": {},
   "source": [
    "## Overview"
   ]
  },
  {
   "cell_type": "markdown",
   "metadata": {},
   "source": [
    "### Data Preparation\n",
    "- [Understanding Dataset Structure](1.1-Exploring-dataset-structure.ipynb)\n",
    "- [Loading and Decoding Dataset](2.0-Loading-dataset.ipynb)\n",
    "- [Extracting Time Series](2.1-Extracting-timeseries.ipynb)\n",
    "\n",
    "### Data Exploration\n",
    "- [Data Exploration](3.0-Exploring-timeseries.ipynb)\n",
    "\n",
    "### OLS Modeling\n",
    "- [Linear Model](4.0-Linear-model.ipynb)\n",
    "- [Quadratic Model](4.1-Quadractic-model.ipynb)\n",
    "- [Quadratic and Cosine Model](4.2-OLS-with-periodic-regressor.ipynb)\n",
    "\n",
    "### AR Modelling (incomplete)\n",
    "- [AR Model](5.1-Autoregressive-model.ipynb)\n",
    "- [ARMA Model](5.2-ARMA-model.ipynb)\n",
    "- [ARIMA Model](5.3-ARIMA-model.ipynb)\n",
    "\n"
   ]
  }
 ],
 "metadata": {
  "kernelspec": {
   "display_name": "Python 3",
   "language": "python",
   "name": "python3"
  },
  "language_info": {
   "codemirror_mode": {
    "name": "ipython",
    "version": 3
   },
   "file_extension": ".py",
   "mimetype": "text/x-python",
   "name": "python",
   "nbconvert_exporter": "python",
   "pygments_lexer": "ipython3",
   "version": "3.7.0"
  }
 },
 "nbformat": 4,
 "nbformat_minor": 2
}
